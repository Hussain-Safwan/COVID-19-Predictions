{
 "cells": [
  {
   "cell_type": "code",
   "execution_count": 1,
   "metadata": {},
   "outputs": [],
   "source": [
    "import pandas as pd\n",
    "dataset = pd.read_csv('covid-data.csv')"
   ]
  },
  {
   "cell_type": "code",
   "execution_count": null,
   "metadata": {
    "scrolled": true
   },
   "outputs": [],
   "source": []
  },
  {
   "cell_type": "code",
   "execution_count": 2,
   "metadata": {},
   "outputs": [],
   "source": [
    "df = dataset.copy()\n",
    "datasetArray = df.values\n",
    "\n"
   ]
  },
  {
   "cell_type": "code",
   "execution_count": 3,
   "metadata": {},
   "outputs": [],
   "source": [
    "arr = []\n",
    "\n",
    "start = 3192 #2495\n",
    "end = 3353 #2637\n",
    "\n",
    "for i in range(start, end):\n",
    "    arr.append(datasetArray[i])\n",
    "\n",
    "infected = []\n",
    "deaths = []\n",
    "for i in range(len(arr)):\n",
    "    infected.append(arr[i][5])\n",
    "    deaths.append(arr[i][7])\n",
    "    \n",
    "days = []\n",
    "from numpy import *\n",
    "for i in range(len(infected)):\n",
    "    days.append(i+1)\n",
    "    if isnan(infected[i]):\n",
    "        infected[i] = 0\n",
    "    if isnan(deaths[i]):\n",
    "        deaths[i] = 0\n",
    "\n",
    "%matplotlib inline\n",
    "import matplotlib.pyplot as mpl\n",
    "# mpl.bar(days, infected)\n",
    "# print(days)\n",
    "# mpl.plot(days, deaths)"
   ]
  },
  {
   "cell_type": "code",
   "execution_count": 4,
   "metadata": {},
   "outputs": [],
   "source": [
    "beta = []\n",
    "gamma = []\n",
    "\n",
    "def getGamma(r0, r1, x0):\n",
    "    if x0 != 0:\n",
    "        return (r1 - r0) / x0\n",
    "    else:\n",
    "        return 0\n",
    "\n",
    "def getBeta(x0, x1, r0, r1):\n",
    "    if x0 != 0:\n",
    "        return ((x1 - x0) + (r1 - r0)) / x0\n",
    "    else:\n",
    "        return 0\n",
    "\n",
    "for i in range(len(arr) - 1):\n",
    "    gamma.append(getGamma(deaths[i], deaths[i+1], infected[i]))\n",
    "    beta.append(getBeta(infected[i], infected[i+1], deaths[i], deaths[i+1]))\n",
    "    \n",
    "# print(days)\n",
    "    \n",
    "# mpl.plot(days[:-1], beta)\n",
    "\n",
    "# mpl.plot(days[:-1], beta)"
   ]
  },
  {
   "cell_type": "code",
   "execution_count": 5,
   "metadata": {},
   "outputs": [
    {
     "name": "stdout",
     "output_type": "stream",
     "text": [
      "[0, 0, 0, -1.0, 0, 0, 0, 0, 0, 0, 0, 0.5, -0.3333333333333333, -1.0, 0, 0.2857142857142857, -0.7142857142857143, 0.6666666666666666, 0.16666666666666666, -1.0, 0, -1.0, 0, 0, -1.0, 0, 1.0, -0.6666666666666666, 1.5, 1.2, 0.8888888888888888, 1.0555555555555556, 0.22857142857142856, 0.2682926829268293, 1.037037037037037, -0.11607142857142858, -0.4148936170212766, 1.4137931034482758, 0.31654676258992803, 0.15934065934065933, 0.03349282296650718, 0.5844748858447488, -0.20527859237536658, 0.12781954887218044, 0.013071895424836602, 0.5865384615384616, -0.11991869918699187, -0.09907834101382489, 0.05384615384615385, 0.20772946859903382, -0.3757455268389662, 0.33980582524271846, 0.1937799043062201, 0.096579476861167, 0.1766848816029144, -0.12480499219968799, 0.0070921985815602835, -0.028021015761821366, 0.19927536231884058, 0.039097744360902256, 0.13662790697674418, 0.007633587786259542, -0.09367088607594937, -0.00424929178470255, -0.10155148095909731, 0.40408805031446543, 0.16234498308906425, -0.06286266924564797, 0.20743034055727555, -0.10843373493975904, 0.15561959654178675, -0.2254575707154742, 0.36666666666666664, 0.26394344069128045, -0.21910112359550563, 0.2885691446842526, 0.10018552875695733, -0.04342921601804851, 0.10330578512396695, -0.1777896422851041, 0.2845953002610966, -0.40962025316455697, 0.32246998284734135, 0.3121349772874757, 0.24741251848201085, -0.2988505747126437, 0.44954648526077096, -0.07151277013752456, 0.22889542209155816, -0.07420130539333562, -0.10166975881261596, 0.1650846058605035, -0.06647807637906648, 0.04364326375711575, -0.002916514764855997, 0.16051188299817185, 0.003468937243771681, -0.0009404388714733542, 0.09193598995920929, -0.177758571016998, 0.09558823529411764, -0.011461318051575931, 0.25104872539528883, 0.03521491455204557, -0.05239520958083832, -0.1454115172232448, -0.0033919210607462227, 0.0904320987654321, -0.014726706315491363, -0.01810344827586207, 0.012895662368112544, 0.14038128249566725, -0.019513431322858592, -0.09565667011375388, 0.08961187214611872, 0.054344972433709636, -0.07797708021923269, 0.019011406844106463, 0.063841059602649, -0.22418512067678528, 0.05170199100834939, -0.15936739659367397, 0.16508400292184075, -0.05092158700406123, 0.14965312190287414, -0.03840642017770135, -0.12351190476190477, -0.09155645981688708, -0.0011169024571854058, 0.15941485371342837, 0.01871571474669248, 0.11697755295605437, -0.22473818284743843, 0.11452616172703989, -0.11272247857613711, -0.09117755629383537, 0.19601464009760064, 0.040983606557377046, -0.10206084396467124, 0.043731778425655975, -0.1130952380952381, -0.009811616954474097, -0.09087301587301587, 0.210989010989011, 0.0670995670995671, 0.016554054054054055, -0.10003323363243602, 0.021150278293135438, -0.20923520923520925, -0.5966348340154616, 0.5395033860045146, 0.42920353982300885, 0.3748696558915537, 0.1239638281838734, -0.046355391333557275, -0.0824272185198176, -0.04672539256989659, 0.1708886208283072, 0.028551771585827314, -1.010347129506008]\n",
      "-0.011014686248331108\n"
     ]
    }
   ],
   "source": [
    "from sklearn.linear_model import Ridge\n",
    "from pandas import DataFrame\n",
    "\n",
    "import numpy as np\n",
    "\n",
    "# beta = np.asarray(beta, dtype = np.float32)\n",
    "# days = np.asarray(days)\n",
    "# print(days)\n",
    "print(beta)\n",
    "\n",
    "lastBeta = beta[len(beta)-1]\n",
    "lastGamma = gamma[len(gamma)-1]\n",
    "print(lastGamma)\n",
    "\n",
    "def convert(arr):\n",
    "    finalArr = []\n",
    "    for i in range(len(arr)):\n",
    "        temp = []\n",
    "        temp.append(arr[i])\n",
    "        finalArr.append(temp)\n",
    "        \n",
    "    return finalArr\n",
    "beta = convert(beta)\n",
    "gamma = convert(gamma)\n",
    "cDays = convert(days[:-1])\n"
   ]
  },
  {
   "cell_type": "code",
   "execution_count": 7,
   "metadata": {},
   "outputs": [],
   "source": [
    "betaModel = Ridge().fit(cDays, beta)\n",
    "\n",
    "gammaModel = Ridge().fit(cDays, gamma)"
   ]
  },
  {
   "cell_type": "code",
   "execution_count": 9,
   "metadata": {},
   "outputs": [
    {
     "name": "stdout",
     "output_type": "stream",
     "text": [
      "[-0.011014686248331108, -0.003273927252195514, -0.0033592938699309616, -0.003444660487666411, -0.003530027105401859, -0.0036153937231373084]\n",
      "[-1.010347129506008, 0.0028559272348545883, 0.0023213819295017923, 0.0017868366241489964, 0.0012522913187962004, 0.0007177460134433905]\n"
     ]
    },
    {
     "ename": "AttributeError",
     "evalue": "'Ridge' object has no attribute 'best_score_'",
     "output_type": "error",
     "traceback": [
      "\u001b[0;31m---------------------------------------------------------------------------\u001b[0m",
      "\u001b[0;31mAttributeError\u001b[0m                            Traceback (most recent call last)",
      "\u001b[0;32m<ipython-input-9-083bff0af0fb>\u001b[0m in \u001b[0;36m<module>\u001b[0;34m\u001b[0m\n\u001b[1;32m     16\u001b[0m \u001b[0mprint\u001b[0m\u001b[0;34m(\u001b[0m\u001b[0mpGammas\u001b[0m\u001b[0;34m)\u001b[0m\u001b[0;34m\u001b[0m\u001b[0;34m\u001b[0m\u001b[0m\n\u001b[1;32m     17\u001b[0m \u001b[0mprint\u001b[0m\u001b[0;34m(\u001b[0m\u001b[0mpBetas\u001b[0m\u001b[0;34m)\u001b[0m\u001b[0;34m\u001b[0m\u001b[0;34m\u001b[0m\u001b[0m\n\u001b[0;32m---> 18\u001b[0;31m \u001b[0mprint\u001b[0m\u001b[0;34m(\u001b[0m\u001b[0;34m'MSE: '\u001b[0m\u001b[0;34m,\u001b[0m \u001b[0mbetaModel\u001b[0m\u001b[0;34m.\u001b[0m\u001b[0mbest_score_\u001b[0m\u001b[0;34m)\u001b[0m\u001b[0;34m\u001b[0m\u001b[0;34m\u001b[0m\u001b[0m\n\u001b[0m",
      "\u001b[0;31mAttributeError\u001b[0m: 'Ridge' object has no attribute 'best_score_'"
     ]
    }
   ],
   "source": [
    "days_test = []\n",
    "for i in range(10):\n",
    "    day = 160 + i + 1\n",
    "    days_test.append(np.array([[day]]))\n",
    "\n",
    "pBetas = []\n",
    "pGammas = []\n",
    "for i in range(5):\n",
    "    pbeta = betaModel.predict(days_test[i])\n",
    "    pgamma = gammaModel.predict(days_test[i])\n",
    "    pBetas.append(pbeta[0][0])\n",
    "    pGammas.append(pgamma[0][0])\n",
    "    \n",
    "pBetas.insert(0, lastBeta)\n",
    "pGammas.insert(0, lastGamma)\n",
    "print(pGammas)\n",
    "print(pBetas)\n",
    "print('MSE: ', betaModel.best_score_)"
   ]
  },
  {
   "cell_type": "code",
   "execution_count": 44,
   "metadata": {},
   "outputs": [
    {
     "name": "stdout",
     "output_type": "stream",
     "text": [
      "4 2996.0\n",
      "2996.0\n",
      "factor 0.0006675567423230847\n",
      "1.9999999999999616\n",
      "factor 1.00612985448705\n",
      "2.0122597089740615\n",
      "factor 1.0056806757994328\n",
      "2.023690704005004\n",
      "factor 1.0052314971118153\n",
      "[1.9999999999999616, 2.0122597089740615, 2.023690704005004, 2.0342776360782135]\n"
     ]
    }
   ],
   "source": [
    "import copy\n",
    "\n",
    "def getInfPrediction(day, pBetas, pGammas):\n",
    "    lastInf = infected[(len(infected) - 2)]\n",
    "    interval = abs((days[len(days)-1] - day))\n",
    "    print(interval, lastInf)\n",
    "    newInfs = []\n",
    "    for i in range(interval):\n",
    "        print(lastInf)\n",
    "        factor = (1 + pBetas[i] - pGammas[i])\n",
    "        print('factor', factor)\n",
    "        nextInf = factor * lastInf\n",
    "        newInfs.append(nextInf)\n",
    "        lastInf=copy.deepcopy(nextInf)\n",
    "    return newInfs\n",
    "\n",
    "pInfs = getInfPrediction(165, pBetas, pGammas)\n",
    "print(pInfs)"
   ]
  },
  {
   "cell_type": "code",
   "execution_count": null,
   "metadata": {},
   "outputs": [],
   "source": []
  },
  {
   "cell_type": "code",
   "execution_count": null,
   "metadata": {},
   "outputs": [],
   "source": []
  }
 ],
 "metadata": {
  "kernelspec": {
   "display_name": "Python 3.7.4 64-bit ('base': conda)",
   "language": "python",
   "name": "python37464bitbaseconda003855733bfc4747869bc88b87f9ebcc"
  },
  "language_info": {
   "codemirror_mode": {
    "name": "ipython",
    "version": 3
   },
   "file_extension": ".py",
   "mimetype": "text/x-python",
   "name": "python",
   "nbconvert_exporter": "python",
   "pygments_lexer": "ipython3",
   "version": "3.7.4"
  }
 },
 "nbformat": 4,
 "nbformat_minor": 2
}
